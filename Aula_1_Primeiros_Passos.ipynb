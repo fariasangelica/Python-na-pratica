{
  "nbformat": 4,
  "nbformat_minor": 0,
  "metadata": {
    "colab": {
      "name": "Aula 1 - Primeiros Passos",
      "provenance": []
    },
    "kernelspec": {
      "name": "python3",
      "display_name": "Python 3"
    },
    "language_info": {
      "name": "python"
    }
  },
  "cells": [
    {
      "cell_type": "code",
      "source": [
        "print(\"Olá mundo!\")"
      ],
      "metadata": {
        "colab": {
          "base_uri": "https://localhost:8080/"
        },
        "id": "MFyUapGRiFMk",
        "outputId": "de86a3c1-df92-408f-9d6e-8fc31c7408e4"
      },
      "execution_count": null,
      "outputs": [
        {
          "output_type": "stream",
          "name": "stdout",
          "text": [
            "Olá mundo!\n"
          ]
        }
      ]
    },
    {
      "cell_type": "code",
      "source": [
        "print(\"Olá, Maria!\")\n",
        "print(\"Sua idade é 23 anos.\")\n",
        "print(\"Seu peso é 52kg.\")"
      ],
      "metadata": {
        "colab": {
          "base_uri": "https://localhost:8080/"
        },
        "id": "8aWJEdpqiGi2",
        "outputId": "4afa3489-baa6-490e-d2c7-58b8f800946a"
      },
      "execution_count": null,
      "outputs": [
        {
          "output_type": "stream",
          "name": "stdout",
          "text": [
            "Olá, Maria!\n",
            "Sua idade é 23 anos.\n",
            "Seu peso é 52kg.\n"
          ]
        }
      ]
    },
    {
      "cell_type": "code",
      "source": [
        "nome  =  \"Maria\"\n",
        "idade  =  \"23\"\n",
        "peso  =  \"52\"\n",
        "print(\"Olá, \" + nome + \"!\")\n",
        "print(\"Sua idade é \" + idade + \" anos.\")\n",
        "print(\"Seu peso é\" + peso + \"kg\")"
      ],
      "metadata": {
        "colab": {
          "base_uri": "https://localhost:8080/"
        },
        "id": "zf0SyANPiKe7",
        "outputId": "1810f97c-1759-46e0-b09e-4034a4cce37c"
      },
      "execution_count": null,
      "outputs": [
        {
          "output_type": "stream",
          "name": "stdout",
          "text": [
            "Olá, Maria!\n",
            "Sua idade é 23 anos.\n",
            "Seu peso é52kg\n"
          ]
        }
      ]
    },
    {
      "cell_type": "code",
      "source": [
        "print(f\"Olá, {nome} !\")\n",
        "print(f\"Sua idade é {idade} anos.\")\n",
        "print(f\"Seu peso é {peso} kg.\")"
      ],
      "metadata": {
        "colab": {
          "base_uri": "https://localhost:8080/"
        },
        "id": "iH4EmpjqiOhu",
        "outputId": "7fd9105b-ebab-4bc2-a00d-8fda7e8dda22"
      },
      "execution_count": null,
      "outputs": [
        {
          "output_type": "stream",
          "name": "stdout",
          "text": [
            "Olá, Maria !\n",
            "Sua idade é 23 anos.\n",
            "Seu peso é 52 kg.\n"
          ]
        }
      ]
    }
  ]
}