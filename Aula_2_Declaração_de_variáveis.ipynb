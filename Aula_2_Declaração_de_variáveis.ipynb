{
  "nbformat": 4,
  "nbformat_minor": 0,
  "metadata": {
    "colab": {
      "name": "Aula 2 - Declaração de variáveis ",
      "provenance": []
    },
    "kernelspec": {
      "name": "python3",
      "display_name": "Python 3"
    },
    "language_info": {
      "name": "python"
    }
  },
  "cells": [
    {
      "cell_type": "code",
      "execution_count": 2,
      "metadata": {
        "colab": {
          "base_uri": "https://localhost:8080/"
        },
        "id": "wwo7ANOAZpNh",
        "outputId": "a8e51e65-4389-4c39-c762-bc6b41956108"
      },
      "outputs": [
        {
          "output_type": "stream",
          "name": "stdout",
          "text": [
            "João\n",
            "18\n",
            "1.73\n"
          ]
        }
      ],
      "source": [
        "nome = \"João\" #string\n",
        "idade = 18    #int\n",
        "altura = 1.73 #float\n",
        "print(nome)\n",
        "print(idade)\n",
        "print(altura)"
      ]
    },
    {
      "cell_type": "code",
      "source": [
        "# Visualizar tipo de dados\n",
        "type(nome)\n"
      ],
      "metadata": {
        "colab": {
          "base_uri": "https://localhost:8080/"
        },
        "id": "v2IAkEbua8Tr",
        "outputId": "70b48e69-7938-4cdf-e583-51fab3ea7660"
      },
      "execution_count": 6,
      "outputs": [
        {
          "output_type": "execute_result",
          "data": {
            "text/plain": [
              "str"
            ]
          },
          "metadata": {},
          "execution_count": 6
        }
      ]
    },
    {
      "cell_type": "code",
      "source": [
        "type(idade)"
      ],
      "metadata": {
        "colab": {
          "base_uri": "https://localhost:8080/"
        },
        "id": "OSNBDlK7bQ1g",
        "outputId": "8f8e67fe-9b72-4103-84e9-5981545c77c2"
      },
      "execution_count": 7,
      "outputs": [
        {
          "output_type": "execute_result",
          "data": {
            "text/plain": [
              "int"
            ]
          },
          "metadata": {},
          "execution_count": 7
        }
      ]
    },
    {
      "cell_type": "code",
      "source": [
        "type(altura)"
      ],
      "metadata": {
        "colab": {
          "base_uri": "https://localhost:8080/"
        },
        "id": "-dR8CRU1bVBt",
        "outputId": "dcffa9a2-1284-406f-89a3-47ce7211f581"
      },
      "execution_count": 8,
      "outputs": [
        {
          "output_type": "execute_result",
          "data": {
            "text/plain": [
              "float"
            ]
          },
          "metadata": {},
          "execution_count": 8
        }
      ]
    },
    {
      "cell_type": "code",
      "source": [
        "# Recebendo dados do usuário \n",
        "nome = input(\"Digite seu nome: \")\n",
        "idade = input(\"Digite sua idade: \")\n",
        "altura = input(\"Digite sua altura: \")"
      ],
      "metadata": {
        "colab": {
          "base_uri": "https://localhost:8080/"
        },
        "id": "_b7CNiNUbW0f",
        "outputId": "60add045-5a9b-4d54-d49c-a664166a2506"
      },
      "execution_count": 15,
      "outputs": [
        {
          "name": "stdout",
          "output_type": "stream",
          "text": [
            "Digite seu nome: Ana\n",
            "Digite sua idade: 24\n",
            "Digite sua altura: 1.70\n"
          ]
        }
      ]
    },
    {
      "cell_type": "code",
      "source": [
        "# Declarando múltiplos valores em uma única linha\n",
        "x,y,z,w = 10, 15, 20, 30\n",
        "print(x,y,z,w)"
      ],
      "metadata": {
        "colab": {
          "base_uri": "https://localhost:8080/"
        },
        "id": "YrT_oIrFgUtn",
        "outputId": "f67294c8-89ee-4153-cb1c-558ad9c832d1"
      },
      "execution_count": 16,
      "outputs": [
        {
          "output_type": "stream",
          "name": "stdout",
          "text": [
            "10 15 20 30\n"
          ]
        }
      ]
    },
    {
      "cell_type": "code",
      "source": [
        ""
      ],
      "metadata": {
        "id": "YIcmP3ZYg1pN"
      },
      "execution_count": null,
      "outputs": []
    }
  ]
}